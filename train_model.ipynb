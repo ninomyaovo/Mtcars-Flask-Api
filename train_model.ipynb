{
  "nbformat": 4,
  "nbformat_minor": 0,
  "metadata": {
    "colab": {
      "provenance": []
    },
    "kernelspec": {
      "name": "python3",
      "display_name": "Python 3"
    },
    "language_info": {
      "name": "python"
    }
  },
  "cells": [
    {
      "cell_type": "code",
      "execution_count": null,
      "metadata": {
        "id": "3nUfk6jf24Kl"
      },
      "outputs": [],
      "source": [
        "import pandas as pd\n",
        "import joblib\n",
        "from pathlib import Path\n",
        "from sklearn.linear_model import LinearRegression\n",
        "\n",
        "DATA   = Path(__file__).resolve().parents[1] / \"data\" / \"mtcars.csv\"\n",
        "MODEL  = Path(__file__).resolve().parents[1] / \"model.pkl\"\n",
        "\n",
        "def main():\n",
        "    df = pd.read_csv(DATA)\n",
        "    X  = df.drop(columns=[\"mpg\"])\n",
        "    y  = df[\"mpg\"]\n",
        "    model = LinearRegression().fit(X, y)\n",
        "    joblib.dump(model, MODEL)\n",
        "    print(f\"Model trained and saved to {MODEL}\")\n",
        "\n",
        "if __name__ == \"__main__\":\n",
        "    main()\n"
      ]
    }
  ]
}